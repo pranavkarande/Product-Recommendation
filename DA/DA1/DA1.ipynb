{
 "cells": [
  {
   "cell_type": "markdown",
   "id": "c446e727",
   "metadata": {},
   "source": [
    "# Assignment 1\n",
    "Name : Pranav Karande"
   ]
  },
  {
   "cell_type": "markdown",
   "id": "31ac1468",
   "metadata": {},
   "source": [
    "## Create a pandas dataframe (DataFrame name as 'df') with numpy random values (4 features and 4 observation)"
   ]
  },
  {
   "cell_type": "code",
   "execution_count": 1,
   "id": "c1646d5d",
   "metadata": {},
   "outputs": [
    {
     "name": "stdout",
     "output_type": "stream",
     "text": [
      "   Feature 1  Feature 2  Feature 3  Feature 4\n",
      "0   0.696469   0.286139   0.226851   0.551315\n",
      "1   0.719469   0.423106   0.980764   0.684830\n",
      "2   0.480932   0.392118   0.343178   0.729050\n",
      "3   0.438572   0.059678   0.398044   0.737995\n"
     ]
    }
   ],
   "source": [
    "import pandas as pd\n",
    "import numpy as np\n",
    "\n",
    "np.random.seed(123)  # Set seed for reproducibility\n",
    "\n",
    "data = np.random.rand(4, 4)  # Generate random values\n",
    "\n",
    "df = pd.DataFrame(data, columns=['Feature 1', 'Feature 2', 'Feature 3', 'Feature 4'])\n",
    "print(df)"
   ]
  },
  {
   "cell_type": "markdown",
   "id": "25c469d2",
   "metadata": {},
   "source": [
    "## Rename the task - 1 'df' dataframe column names to 'Random value 1', 'Random value 2', 'Random value 3' & 'Random value 4' "
   ]
  },
  {
   "cell_type": "code",
   "execution_count": 2,
   "id": "810e776e",
   "metadata": {},
   "outputs": [
    {
     "name": "stdout",
     "output_type": "stream",
     "text": [
      "   Random value 1  Random value 2  Random value 3  Random value 4\n",
      "0        0.696469        0.286139        0.226851        0.551315\n",
      "1        0.719469        0.423106        0.980764        0.684830\n",
      "2        0.480932        0.392118        0.343178        0.729050\n",
      "3        0.438572        0.059678        0.398044        0.737995\n"
     ]
    }
   ],
   "source": [
    "new_column_names = {'Feature 1': 'Random value 1',\n",
    "                    'Feature 2': 'Random value 2',\n",
    "                    'Feature 3': 'Random value 3',\n",
    "                    'Feature 4': 'Random value 4'}\n",
    "\n",
    "df = df.rename(columns=new_column_names)\n",
    "print(df)"
   ]
  },
  {
   "cell_type": "markdown",
   "id": "e40ff3db",
   "metadata": {},
   "source": [
    "## Find the descriptive statistics of the 'df' dataframe."
   ]
  },
  {
   "cell_type": "code",
   "execution_count": 3,
   "id": "cf213ee4",
   "metadata": {},
   "outputs": [
    {
     "name": "stdout",
     "output_type": "stream",
     "text": [
      "       Random value 1  Random value 2  Random value 3  Random value 4\n",
      "count        4.000000        4.000000        4.000000        4.000000\n",
      "mean         0.583861        0.290260        0.487209        0.675797\n",
      "std          0.144653        0.164528        0.336689        0.086182\n",
      "min          0.438572        0.059678        0.226851        0.551315\n",
      "25%          0.470342        0.229524        0.314096        0.651451\n",
      "50%          0.588701        0.339128        0.370611        0.706940\n",
      "75%          0.702219        0.399865        0.543724        0.731286\n",
      "max          0.719469        0.423106        0.980764        0.737995\n"
     ]
    }
   ],
   "source": [
    "print(df.describe())"
   ]
  },
  {
   "cell_type": "markdown",
   "id": "fb8174dc",
   "metadata": {},
   "source": [
    "## Check for the null values in 'df' and find the data type of the columns."
   ]
  },
  {
   "cell_type": "code",
   "execution_count": 4,
   "id": "54f409c6",
   "metadata": {},
   "outputs": [
    {
     "name": "stdout",
     "output_type": "stream",
     "text": [
      "Null Values:\n",
      "Random value 1    0\n",
      "Random value 2    0\n",
      "Random value 3    0\n",
      "Random value 4    0\n",
      "dtype: int64\n",
      "\n",
      "Data Types:\n",
      "Random value 1    float64\n",
      "Random value 2    float64\n",
      "Random value 3    float64\n",
      "Random value 4    float64\n",
      "dtype: object\n"
     ]
    }
   ],
   "source": [
    "# Check for null values\n",
    "null_values = df.isnull().sum()\n",
    "\n",
    "# Find data types\n",
    "data_types = df.dtypes\n",
    "\n",
    "print(\"Null Values:\")\n",
    "print(null_values)\n",
    "print(\"\\nData Types:\")\n",
    "print(data_types)"
   ]
  },
  {
   "cell_type": "markdown",
   "id": "961349fe",
   "metadata": {},
   "source": [
    "## Display the 'Random value 2' & 'Random value 3' columns with location method and index location method."
   ]
  },
  {
   "cell_type": "code",
   "execution_count": 5,
   "id": "0fa84ae9",
   "metadata": {},
   "outputs": [
    {
     "name": "stdout",
     "output_type": "stream",
     "text": [
      "Columns using location method:\n",
      "   Random value 2  Random value 3\n",
      "0        0.286139        0.226851\n",
      "1        0.423106        0.980764\n",
      "2        0.392118        0.343178\n",
      "3        0.059678        0.398044\n",
      "\n",
      "Columns using index location method:\n",
      "   Random value 2  Random value 3\n",
      "0        0.286139        0.226851\n",
      "1        0.423106        0.980764\n",
      "2        0.392118        0.343178\n",
      "3        0.059678        0.398044\n"
     ]
    }
   ],
   "source": [
    "# Display columns using location method\n",
    "columns_loc = df.loc[:, ['Random value 2', 'Random value 3']]\n",
    "print(\"Columns using location method:\")\n",
    "print(columns_loc)\n",
    "\n",
    "# Display columns using index location method\n",
    "columns_iloc = df.iloc[:, [1, 2]]\n",
    "print(\"\\nColumns using index location method:\")\n",
    "print(columns_iloc)"
   ]
  }
 ],
 "metadata": {
  "kernelspec": {
   "display_name": "Python 3 (ipykernel)",
   "language": "python",
   "name": "python3"
  },
  "language_info": {
   "codemirror_mode": {
    "name": "ipython",
    "version": 3
   },
   "file_extension": ".py",
   "mimetype": "text/x-python",
   "name": "python",
   "nbconvert_exporter": "python",
   "pygments_lexer": "ipython3",
   "version": "3.11.3"
  }
 },
 "nbformat": 4,
 "nbformat_minor": 5
}
